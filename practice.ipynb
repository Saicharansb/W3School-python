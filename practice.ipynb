{
 "cells": [
  {
   "cell_type": "code",
   "execution_count": 5,
   "id": "10d31c92",
   "metadata": {},
   "outputs": [
    {
     "name": "stdout",
     "output_type": "stream",
     "text": [
      "Hello Sam\n",
      "Hello Ani\n",
      "Hello Kavi\n"
     ]
    }
   ],
   "source": [
    "friends = ['Sam','Ani','Kavi']\n",
    "for friend in friends:\n",
    "    print('Hello' +' '+ friend)"
   ]
  },
  {
   "cell_type": "code",
   "execution_count": 8,
   "id": "0860de34",
   "metadata": {},
   "outputs": [
    {
     "name": "stdout",
     "output_type": "stream",
     "text": [
      "Hellow, world!\n",
      "Hellow, world!\n",
      "Hellow, world!\n",
      "Hellow, world!\n",
      "Hellow, world!\n"
     ]
    }
   ],
   "source": [
    "for i in range(5 ):\n",
    "    print(\"Hellow, world!\")"
   ]
  },
  {
   "cell_type": "code",
   "execution_count": 3,
   "id": "1fa75ea8",
   "metadata": {},
   "outputs": [],
   "source": [
    "def greetings(name):\n",
    "    print(\"Hellow,  \"+ name)"
   ]
  },
  {
   "cell_type": "code",
   "execution_count": 4,
   "id": "d1701d99",
   "metadata": {},
   "outputs": [
    {
     "name": "stdout",
     "output_type": "stream",
     "text": [
      "Hellow,  sai\n"
     ]
    }
   ],
   "source": [
    "greetings(\"sai\")"
   ]
  },
  {
   "cell_type": "code",
   "execution_count": 7,
   "id": "cc6b72a8",
   "metadata": {},
   "outputs": [],
   "source": [
    "def welcome(name):\n",
    "    print(\"welcome, \"+ name)"
   ]
  },
  {
   "cell_type": "code",
   "execution_count": 9,
   "id": "a25ed3bc",
   "metadata": {},
   "outputs": [
    {
     "name": "stdout",
     "output_type": "stream",
     "text": [
      "welcome, sai\n"
     ]
    }
   ],
   "source": [
    "welcome(\"sai\")get_seconds(1,10,10)"
   ]
  },
  {
   "cell_type": "code",
   "execution_count": 10,
   "id": "7ccb5216",
   "metadata": {},
   "outputs": [
    {
     "name": "stdout",
     "output_type": "stream",
     "text": [
      "Hellow,  Kavi\n"
     ]
    }
   ],
   "source": [
    "greetings(\"Kavi\")"
   ]
  },
  {
   "cell_type": "code",
   "execution_count": 11,
   "id": "23eb78ed",
   "metadata": {},
   "outputs": [
    {
     "name": "stdout",
     "output_type": "stream",
     "text": [
      "welcome, Ani\n"
     ]
    }
   ],
   "source": [
    "welcome(\"Ani\")"
   ]
  },
  {
   "cell_type": "code",
   "execution_count": 12,
   "id": "1433cb0a",
   "metadata": {},
   "outputs": [],
   "source": [
    "def intro(name, department):\n",
    "    print(\"Hellow, \"+ name)\n",
    "    print(\"You are a part of, \"+department)"
   ]
  },
  {
   "cell_type": "code",
   "execution_count": 13,
   "id": "1bc507a3",
   "metadata": {},
   "outputs": [
    {
     "name": "stdout",
     "output_type": "stream",
     "text": [
      "Hellow, Sai\n",
      "You are a part of, Auto\n"
     ]
    }
   ],
   "source": [
    "intro(\"Sai\",\"Auto\")"
   ]
  },
  {
   "cell_type": "code",
   "execution_count": 14,
   "id": "442c5b2b",
   "metadata": {},
   "outputs": [
    {
     "name": "stdout",
     "output_type": "stream",
     "text": [
      "Hellow, Sam\n",
      "You are a part of, software engineering\n"
     ]
    }
   ],
   "source": [
    "intro(\"Sam\",\"software engineering\")"
   ]
  },
  {
   "cell_type": "code",
   "execution_count": 17,
   "id": "f57cd409",
   "metadata": {},
   "outputs": [],
   "source": [
    "def area_traiangle(base,height):\n",
    "    return base*height/2"
   ]
  },
  {
   "cell_type": "code",
   "execution_count": 20,
   "id": "58bcbbdc",
   "metadata": {},
   "outputs": [],
   "source": [
    "a=area_traiangle(5,4)"
   ]
  },
  {
   "cell_type": "code",
   "execution_count": 21,
   "id": "fa84b099",
   "metadata": {},
   "outputs": [],
   "source": [
    "b=area_traiangle(7,3)"
   ]
  },
  {
   "cell_type": "code",
   "execution_count": 23,
   "id": "f4e865ee",
   "metadata": {},
   "outputs": [
    {
     "name": "stdout",
     "output_type": "stream",
     "text": [
      "The sum of the area of triangle a and b :  20.5\n"
     ]
    }
   ],
   "source": [
    "sum = a+b\n",
    "print(\"The sum of the area of triangle a and b : \",sum)"
   ]
  },
  {
   "cell_type": "code",
   "execution_count": 24,
   "id": "64ca1821",
   "metadata": {},
   "outputs": [],
   "source": [
    "def get_seconds(hours, minutes, seconds):\n",
    "    return 3600*hours + 60*minutes + seconds"
   ]
  },
  {
   "cell_type": "code",
   "execution_count": 25,
   "id": "306c8cff",
   "metadata": {},
   "outputs": [
    {
     "data": {
      "text/plain": [
       "4210"
      ]
     },
     "execution_count": 25,
     "metadata": {},
     "output_type": "execute_result"
    }
   ],
   "source": [
    "get_seconds(1,10,10)"
   ]
  },
  {
   "cell_type": "code",
   "execution_count": 26,
   "id": "f87a6111",
   "metadata": {},
   "outputs": [
    {
     "data": {
      "text/plain": [
       "610"
      ]
     },
     "execution_count": 26,
     "metadata": {},
     "output_type": "execute_result"
    }
   ],
   "source": [
    "get_seconds(0,10,10)"
   ]
  },
  {
   "cell_type": "code",
   "execution_count": 32,
   "id": "c84ac725",
   "metadata": {},
   "outputs": [],
   "source": [
    "def convert_seconds(seconds):\n",
    "    hours = seconds//3600\n",
    "    minutes = (seconds-hours*3600)//60\n",
    "    remaining_seconds= seconds-hours*3600-minutes*60\n",
    "    return hours,minutes,remaining_seconds"
   ]
  },
  {
   "cell_type": "code",
   "execution_count": 33,
   "id": "2d02226b",
   "metadata": {},
   "outputs": [
    {
     "data": {
      "text/plain": [
       "(1, 23, 20)"
      ]
     },
     "execution_count": 33,
     "metadata": {},
     "output_type": "execute_result"
    }
   ],
   "source": [
    "convert_seconds(5000)"
   ]
  },
  {
   "cell_type": "code",
   "execution_count": 38,
   "id": "322264e8",
   "metadata": {},
   "outputs": [],
   "source": [
    "def lucky_number(name):\n",
    "    number=len(name)*9\n",
    "    print(\"Hello,\", name,\". Your Lucky number is: \", number)"
   ]
  },
  {
   "cell_type": "code",
   "execution_count": 39,
   "id": "1c3bff7c",
   "metadata": {},
   "outputs": [
    {
     "name": "stdout",
     "output_type": "stream",
     "text": [
      "Hello, sai . Your Lucky number is:  27\n"
     ]
    }
   ],
   "source": [
    "lucky_number(\"sai\")"
   ]
  },
  {
   "cell_type": "code",
   "execution_count": 40,
   "id": "22fec9f8",
   "metadata": {},
   "outputs": [
    {
     "name": "stdout",
     "output_type": "stream",
     "text": [
      "Hello, saicharan . Your Lucky number is:  81\n"
     ]
    }
   ],
   "source": [
    "lucky_number(\"saicharan\")"
   ]
  },
  {
   "cell_type": "code",
   "execution_count": 41,
   "id": "64cc44fe",
   "metadata": {},
   "outputs": [],
   "source": [
    "def calculate(d):\n",
    "    q=3.14\n",
    "    z=q*(d**2)\n",
    "    print(z)"
   ]
  },
  {
   "cell_type": "code",
   "execution_count": 42,
   "id": "0e847729",
   "metadata": {},
   "outputs": [
    {
     "name": "stdout",
     "output_type": "stream",
     "text": [
      "78.5\n"
     ]
    }
   ],
   "source": [
    "calculate(5)"
   ]
  },
  {
   "cell_type": "code",
   "execution_count": 43,
   "id": "af797107",
   "metadata": {},
   "outputs": [],
   "source": [
    "def circle_area(radius):\n",
    "    pi=3.14\n",
    "    area= pi*(radius**2)\n",
    "    print(area)"
   ]
  },
  {
   "cell_type": "code",
   "execution_count": 44,
   "id": "5438bbe0",
   "metadata": {},
   "outputs": [
    {
     "name": "stdout",
     "output_type": "stream",
     "text": [
      "78.5\n"
     ]
    }
   ],
   "source": [
    "circle_area(5)"
   ]
  },
  {
   "cell_type": "code",
   "execution_count": 48,
   "id": "f6371785",
   "metadata": {},
   "outputs": [
    {
     "name": "stdout",
     "output_type": "stream",
     "text": [
      "The distance in kilometers is  None\n",
      "The round-trip in kilometers is  None\n"
     ]
    }
   ],
   "source": [
    "# 1) Complete the function to return the result of the conversion\n",
    "def convert_distance(miles):\n",
    "    km = miles * 1.6\n",
    "    print(km)# approximately 1.6 km in 1 mile\n",
    "\n",
    "my_trip_miles = 55\n",
    "\n",
    "# 2) Convert my_trip_miles to kilometers by calling the function above\n",
    "my_trip_km = convert_distance(55)\n",
    "my_trip_km \n",
    "\n",
    "# 3) Fill in the blank to print the result of the conversion\n",
    "print(\"The distance in kilometers is \", str(my_trip_km))\n",
    "\n",
    "# 4) Calculate the round-trip in kilometers by doubling the result,\n",
    "#    and fill in the blank to print the result\n",
    "print(\"The round-trip in kilometers is \" , str(my_trip_km))"
   ]
  },
  {
   "cell_type": "code",
   "execution_count": 50,
   "id": "b93e00c5",
   "metadata": {},
   "outputs": [
    {
     "name": "stdout",
     "output_type": "stream",
     "text": [
      "None\n"
     ]
    }
   ],
   "source": [
    "my_trip_km = convert_distance(55)\n",
    "print(my_trip_km)"
   ]
  },
  {
   "cell_type": "code",
   "execution_count": 71,
   "id": "ca05ef6b",
   "metadata": {},
   "outputs": [],
   "source": [
    "def convert_distance(miles):\n",
    "    km = miles * 1.6\n",
    "    return km\n"
   ]
  },
  {
   "cell_type": "code",
   "execution_count": 72,
   "id": "89d075c4",
   "metadata": {},
   "outputs": [
    {
     "data": {
      "text/plain": [
       "1.6"
      ]
     },
     "execution_count": 72,
     "metadata": {},
     "output_type": "execute_result"
    }
   ],
   "source": [
    "convert_distance(1)"
   ]
  },
  {
   "cell_type": "code",
   "execution_count": 75,
   "id": "3cc73891",
   "metadata": {},
   "outputs": [],
   "source": [
    "my_trip_km =convert_distance(10)"
   ]
  },
  {
   "cell_type": "code",
   "execution_count": 78,
   "id": "f54413b8",
   "metadata": {},
   "outputs": [
    {
     "name": "stdout",
     "output_type": "stream",
     "text": [
      "the distance in km is  16.0\n"
     ]
    }
   ],
   "source": [
    "print(\"the distance in km is \", my_trip_km)"
   ]
  },
  {
   "cell_type": "code",
   "execution_count": 79,
   "id": "b4456740",
   "metadata": {},
   "outputs": [],
   "source": [
    "def hint_username(username):\n",
    "    if len(username)<3:\n",
    "        print(\"Invalid username, must be atleast 3 char long\")\n",
    "    else:\n",
    "        print(\"valid username\")"
   ]
  },
  {
   "cell_type": "code",
   "execution_count": 80,
   "id": "6034c50c",
   "metadata": {},
   "outputs": [
    {
     "name": "stdout",
     "output_type": "stream",
     "text": [
      "valid username\n"
     ]
    }
   ],
   "source": [
    "hint_username(\"Sam\")"
   ]
  },
  {
   "cell_type": "code",
   "execution_count": 81,
   "id": "8938cb26",
   "metadata": {},
   "outputs": [
    {
     "name": "stdout",
     "output_type": "stream",
     "text": [
      "Invalid username, must be atleast 3 char long\n"
     ]
    }
   ],
   "source": [
    "hint_username(\"Sa\")"
   ]
  },
  {
   "cell_type": "code",
   "execution_count": 83,
   "id": "9ab92f92",
   "metadata": {},
   "outputs": [],
   "source": [
    "def is_even(num):\n",
    "    if num % 2== 0:\n",
    "        return True\n",
    "    return False"
   ]
  },
  {
   "cell_type": "code",
   "execution_count": 84,
   "id": "9195fd1b",
   "metadata": {},
   "outputs": [
    {
     "data": {
      "text/plain": [
       "True"
      ]
     },
     "execution_count": 84,
     "metadata": {},
     "output_type": "execute_result"
    }
   ],
   "source": [
    "is_even(10)"
   ]
  },
  {
   "cell_type": "code",
   "execution_count": 85,
   "id": "dbe7b236",
   "metadata": {},
   "outputs": [
    {
     "data": {
      "text/plain": [
       "False"
      ]
     },
     "execution_count": 85,
     "metadata": {},
     "output_type": "execute_result"
    }
   ],
   "source": [
    "is_even(11)"
   ]
  },
  {
   "cell_type": "code",
   "execution_count": 97,
   "id": "064c023c",
   "metadata": {},
   "outputs": [],
   "source": [
    "def hint_usernames(username):\n",
    "    if len(username)<3:\n",
    "        print(\"Invalid username, must be atleast 3 char long\")\n",
    "    elif len(username)>15:\n",
    "        print(\"Invalid username, must be less than 15 char\")\n",
    "    else:\n",
    "        print(\"valid username\")"
   ]
  },
  {
   "cell_type": "code",
   "execution_count": 100,
   "id": "1eb57508",
   "metadata": {},
   "outputs": [
    {
     "name": "stdout",
     "output_type": "stream",
     "text": [
      "valid username\n"
     ]
    }
   ],
   "source": [
    "hint_usernames(\"abcdefghijkal\")"
   ]
  },
  {
   "cell_type": "code",
   "execution_count": 103,
   "id": "dba70243",
   "metadata": {},
   "outputs": [
    {
     "name": "stdout",
     "output_type": "stream",
     "text": [
      "Invalid username, must be less than 15 char\n"
     ]
    }
   ],
   "source": [
    "hint_usernames(\"abcdefghijkalmnop\")"
   ]
  },
  {
   "cell_type": "code",
   "execution_count": 104,
   "id": "9d22bdd4",
   "metadata": {},
   "outputs": [
    {
     "data": {
      "text/plain": [
       "False"
      ]
     },
     "execution_count": 104,
     "metadata": {},
     "output_type": "execute_result"
    }
   ],
   "source": [
    "\"big\" > \"small\""
   ]
  },
  {
   "cell_type": "code",
   "execution_count": 105,
   "id": "806da02b",
   "metadata": {},
   "outputs": [
    {
     "data": {
      "text/plain": [
       "1"
      ]
     },
     "execution_count": 105,
     "metadata": {},
     "output_type": "execute_result"
    }
   ],
   "source": [
    "11 % 5"
   ]
  },
  {
   "cell_type": "code",
   "execution_count": 106,
   "id": "848a4a69",
   "metadata": {},
   "outputs": [
    {
     "data": {
      "text/plain": [
       "True"
      ]
     },
     "execution_count": 106,
     "metadata": {},
     "output_type": "execute_result"
    }
   ],
   "source": [
    "((10 >= 5*2) and (10 <= 5*2))"
   ]
  },
  {
   "cell_type": "code",
   "execution_count": 107,
   "id": "96a29bda",
   "metadata": {},
   "outputs": [
    {
     "data": {
      "text/plain": [
       "1"
      ]
     },
     "execution_count": 107,
     "metadata": {},
     "output_type": "execute_result"
    }
   ],
   "source": [
    "4%3"
   ]
  },
  {
   "cell_type": "code",
   "execution_count": 108,
   "id": "618a56c6",
   "metadata": {},
   "outputs": [],
   "source": [
    "def fractional_part(numerator, denominator):\n",
    "\tif numerator % denominator==0:\n",
    "\t\treturn 0\n",
    "\telse:\n",
    "\t\treturn numerator % denominator"
   ]
  },
  {
   "cell_type": "code",
   "execution_count": 109,
   "id": "251b6b13",
   "metadata": {},
   "outputs": [
    {
     "name": "stdout",
     "output_type": "stream",
     "text": [
      "0\n"
     ]
    }
   ],
   "source": [
    "print(fractional_part(5, 5))"
   ]
  },
  {
   "cell_type": "code",
   "execution_count": 110,
   "id": "0695f12f",
   "metadata": {},
   "outputs": [
    {
     "name": "stdout",
     "output_type": "stream",
     "text": [
      "0\n",
      "1\n",
      "2\n",
      "1\n"
     ]
    },
    {
     "ename": "ZeroDivisionError",
     "evalue": "integer division or modulo by zero",
     "output_type": "error",
     "traceback": [
      "\u001b[1;31m---------------------------------------------------------------------------\u001b[0m",
      "\u001b[1;31mZeroDivisionError\u001b[0m                         Traceback (most recent call last)",
      "Input \u001b[1;32mIn [110]\u001b[0m, in \u001b[0;36m<cell line: 5>\u001b[1;34m()\u001b[0m\n\u001b[0;32m      3\u001b[0m \u001b[38;5;28mprint\u001b[39m(fractional_part(\u001b[38;5;241m5\u001b[39m, \u001b[38;5;241m3\u001b[39m)) \u001b[38;5;66;03m# Should be 0.66...\u001b[39;00m\n\u001b[0;32m      4\u001b[0m \u001b[38;5;28mprint\u001b[39m(fractional_part(\u001b[38;5;241m5\u001b[39m, \u001b[38;5;241m2\u001b[39m)) \u001b[38;5;66;03m# Should be 0.5\u001b[39;00m\n\u001b[1;32m----> 5\u001b[0m \u001b[38;5;28mprint\u001b[39m(\u001b[43mfractional_part\u001b[49m\u001b[43m(\u001b[49m\u001b[38;5;241;43m5\u001b[39;49m\u001b[43m,\u001b[49m\u001b[43m \u001b[49m\u001b[38;5;241;43m0\u001b[39;49m\u001b[43m)\u001b[49m) \u001b[38;5;66;03m# Should be 0\u001b[39;00m\n\u001b[0;32m      6\u001b[0m \u001b[38;5;28mprint\u001b[39m(fractional_part(\u001b[38;5;241m0\u001b[39m, \u001b[38;5;241m5\u001b[39m))\n",
      "Input \u001b[1;32mIn [108]\u001b[0m, in \u001b[0;36mfractional_part\u001b[1;34m(numerator, denominator)\u001b[0m\n\u001b[0;32m      1\u001b[0m \u001b[38;5;28;01mdef\u001b[39;00m \u001b[38;5;21mfractional_part\u001b[39m(numerator, denominator):\n\u001b[1;32m----> 2\u001b[0m \t\u001b[38;5;28;01mif\u001b[39;00m \u001b[43mnumerator\u001b[49m\u001b[43m \u001b[49m\u001b[38;5;241;43m%\u001b[39;49m\u001b[43m \u001b[49m\u001b[43mdenominator\u001b[49m\u001b[38;5;241m==\u001b[39m\u001b[38;5;241m0\u001b[39m:\n\u001b[0;32m      3\u001b[0m \t\t\u001b[38;5;28;01mreturn\u001b[39;00m \u001b[38;5;241m0\u001b[39m\n\u001b[0;32m      4\u001b[0m \t\u001b[38;5;28;01melse\u001b[39;00m:\n",
      "\u001b[1;31mZeroDivisionError\u001b[0m: integer division or modulo by zero"
     ]
    }
   ],
   "source": [
    "print(fractional_part(5, 5)) # Should be 0\n",
    "print(fractional_part(5, 4)) # Should be 0.25\n",
    "print(fractional_part(5, 3)) # Should be 0.66...\n",
    "print(fractional_part(5, 2)) # Should be 0.5\n",
    "print(fractional_part(5, 0)) # Should be 0\n",
    "print(fractional_part(0, 5))"
   ]
  },
  {
   "cell_type": "code",
   "execution_count": 111,
   "id": "904d21ed",
   "metadata": {},
   "outputs": [
    {
     "name": "stdout",
     "output_type": "stream",
     "text": [
      "chair\n",
      "beyond\n",
      "notebook\n"
     ]
    }
   ],
   "source": [
    "def longest_word(word1, word2, word3):\n",
    "\tif len(word1) >= len(word2) and len(word1) >= len(word3):\n",
    "\t\treturn  word1\n",
    "\telif len(word2) >= len(word1) and len(word2) >= len(word3):\n",
    "\t\treturn word2\n",
    "\telse:\n",
    "\t\treturn word3\n",
    "    \n",
    "print(longest_word(\"chair\", \"couch\", \"table\"))\n",
    "print(longest_word(\"bed\", \"bath\", \"beyond\"))\n",
    "print(longest_word(\"laptop\", \"notebook\", \"desktop\"))"
   ]
  },
  {
   "cell_type": "code",
   "execution_count": null,
   "id": "c111257d",
   "metadata": {},
   "outputs": [],
   "source": []
  }
 ],
 "metadata": {
  "kernelspec": {
   "display_name": "Python 3 (ipykernel)",
   "language": "python",
   "name": "python3"
  },
  "language_info": {
   "codemirror_mode": {
    "name": "ipython",
    "version": 3
   },
   "file_extension": ".py",
   "mimetype": "text/x-python",
   "name": "python",
   "nbconvert_exporter": "python",
   "pygments_lexer": "ipython3",
   "version": "3.9.12"
  }
 },
 "nbformat": 4,
 "nbformat_minor": 5
}
